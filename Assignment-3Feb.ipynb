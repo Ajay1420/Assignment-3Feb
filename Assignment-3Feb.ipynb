{
 "cells": [
  {
   "cell_type": "markdown",
   "id": "2d311e58-04bb-49c4-a218-b2f7162891c4",
   "metadata": {},
   "source": [
    "Q1-Which keyword is used to create a function? Create a function to return a list of odd numbers in the\n",
    "range of 1 to 25."
   ]
  },
  {
   "cell_type": "markdown",
   "id": "959d8597-bfef-44d9-b41b-6fc2e04861db",
   "metadata": {},
   "source": [
    "Ans(1)-The keyword used to create a function in Python is def.\n",
    "       a function to return a list of odd numbers in the range of 1 to 25:"
   ]
  },
  {
   "cell_type": "code",
   "execution_count": 1,
   "id": "345e161f-1f47-4d69-955f-14138c5fa4e8",
   "metadata": {},
   "outputs": [
    {
     "name": "stdout",
     "output_type": "stream",
     "text": [
      "[1, 3, 5, 7, 9, 11, 13, 15, 17, 19, 21, 23, 25]\n"
     ]
    }
   ],
   "source": [
    "def get_odd_numbers():\n",
    "    odd_numbers = []\n",
    "    for i in range(1, 26):\n",
    "        if i % 2 != 0:\n",
    "            odd_numbers.append(i)\n",
    "    return odd_numbers\n",
    "\n",
    "print(get_odd_numbers())\n"
   ]
  },
  {
   "cell_type": "markdown",
   "id": "4d9110a4-1c0b-4dc8-9974-2fd0224c9b81",
   "metadata": {},
   "source": [
    "Q2-Why *args and **kwargs is used in some functions? Create a function each for *args and **kwargs\n",
    "to demonstrate their use."
   ]
  },
  {
   "cell_type": "markdown",
   "id": "f1828d0f-4fa4-4a42-98e9-d0c7e85823a0",
   "metadata": {},
   "source": [
    "Ans(2)-The *args and **kwargs syntax in Python allows a function to accept a variable number of arguments.\n",
    "\n",
    "*args is used to send a non-keyworded variable length argument list to the function. It means it allows the function to take any number of non-keyworded arguments, which will be converted into a tuple.\n",
    "\n",
    "**kwargs allows a keyworded variable length of arguments to be passed to the function. It means it allows the function to take any number of keyworded arguments, which will be converted into a dictionary.\n",
    "\n",
    "Here's an example of how to use *args:"
   ]
  },
  {
   "cell_type": "code",
   "execution_count": 2,
   "id": "89546133-aaed-4129-b120-2b35e31c823e",
   "metadata": {},
   "outputs": [
    {
     "name": "stdout",
     "output_type": "stream",
     "text": [
      "(1, 2, 3, 4)\n"
     ]
    }
   ],
   "source": [
    "def print_args(*args):\n",
    "    print(args)\n",
    "\n",
    "print_args(1, 2, 3, 4)\n",
    "\n"
   ]
  },
  {
   "cell_type": "markdown",
   "id": "43aeecab-a72b-46b3-8c57-8a3ba8f5bde2",
   "metadata": {},
   "source": [
    "And here's an example of how to use **kwargs:"
   ]
  },
  {
   "cell_type": "code",
   "execution_count": 4,
   "id": "0ebf4482-060e-48bb-8543-3d32f7ffa155",
   "metadata": {},
   "outputs": [
    {
     "name": "stdout",
     "output_type": "stream",
     "text": [
      "{'a': 1, 'b': 2, 'c': 3}\n"
     ]
    }
   ],
   "source": [
    "def print_kwargs(**kwargs):\n",
    "    print(kwargs)\n",
    "\n",
    "print_kwargs(a=1, b=2, c=3)\n",
    "\n"
   ]
  },
  {
   "cell_type": "markdown",
   "id": "f7afb155-e015-4b27-9fb1-c12e2ee6e9c8",
   "metadata": {},
   "source": [
    "In these examples, the functions print_args and print_kwargs take any number of arguments and keyword arguments, respectively, and simply print them."
   ]
  },
  {
   "cell_type": "markdown",
   "id": "792ac801-2906-4985-8acc-03e8abd23f35",
   "metadata": {},
   "source": [
    "Q3-What is an iterator in python? Name the method used to initialise the iterator object and the method\n",
    "used for iteration. Use these methods to print the first five elements of the given list [2, 4, 6, 8, 10, 12, 14,\n",
    "16, 18, 20]."
   ]
  },
  {
   "cell_type": "markdown",
   "id": "bdcaf7d2-824f-415f-82d9-c0f7e3690846",
   "metadata": {},
   "source": [
    "Ans(3):-An iterator in Python is an object that implements the iterator protocol, which consists of the methods iter() and next(). The iter() method is used to initialize the iterator object, and the next() method is used to iterate through the elements of the object.\n",
    "\n",
    "the above methods to print the first five elements of the list [2, 4, 6, 8, 10, 12, 14, 16, 18, 20]:"
   ]
  },
  {
   "cell_type": "code",
   "execution_count": 9,
   "id": "17daeb10-4ee7-420b-8704-6f435c107a54",
   "metadata": {},
   "outputs": [
    {
     "name": "stdout",
     "output_type": "stream",
     "text": [
      "2\n",
      "4\n",
      "6\n",
      "8\n",
      "10\n"
     ]
    }
   ],
   "source": [
    "l= [2, 4, 6, 8, 10, 12, 14, 16, 18, 20]\n",
    "\n",
    "def first_five_elements(l):\n",
    "    l_iterator = iter(l)\n",
    "    for i in range(5):\n",
    "        print(next(l_iterator))\n",
    "first_five_elements(l)\n"
   ]
  },
  {
   "cell_type": "markdown",
   "id": "ced5316a-2914-4a14-bd27-e44796da849c",
   "metadata": {},
   "source": [
    "Q4-What is a generator function in python? Why yield keyword is used? Give an example of a generator\n",
    "function."
   ]
  },
  {
   "cell_type": "markdown",
   "id": "2b792196-55a3-49e1-ba4d-4f095f5404e1",
   "metadata": {},
   "source": [
    "Ans(4)-In Python, a generator function is a special type of function that allows you to iterate over a series of values, one value at a time. The yield keyword is used in a generator function to return a value and then \"pause\" the function. When the generator function is called again, it continues from where it left off, instead of starting from the beginning. This allows you to generate values \"on the fly\" as you need them, rather than generating a large list of values all at once.\n",
    "\n",
    "example of a generator function that generates the sequence of Fibonacci numbers:"
   ]
  },
  {
   "cell_type": "code",
   "execution_count": 32,
   "id": "7b067b77-6357-4d58-b743-e2dce5d96279",
   "metadata": {},
   "outputs": [
    {
     "name": "stdout",
     "output_type": "stream",
     "text": [
      "0\n",
      "1\n",
      "1\n",
      "2\n",
      "3\n",
      "5\n",
      "8\n",
      "13\n",
      "21\n",
      "34\n"
     ]
    }
   ],
   "source": [
    "def fibonacci_gen(n):\n",
    "    a, b = 0, 1\n",
    "    for i in range(n):\n",
    "        yield a\n",
    "        a, b = b, a + b\n",
    "\n",
    "fib_gen = fibonacci_gen(10)\n",
    "\n",
    "for i in fib_gen:\n",
    "    print(i)\n"
   ]
  },
  {
   "cell_type": "markdown",
   "id": "a5cd1c91-2e3e-4f21-bb4a-1a8af51729c6",
   "metadata": {},
   "source": [
    "This generator function generates the first 10 Fibonacci numbers, which are 0, 1, 1, 2, 3, 5, 8, 13, 21, 34."
   ]
  },
  {
   "cell_type": "markdown",
   "id": "66185e92-adeb-4438-a2bd-7a71de0a76b9",
   "metadata": {},
   "source": [
    "Q5-Create a generator function for prime numbers less than 1000. Use the next() method to print the\n",
    "first 20 prime numbers."
   ]
  },
  {
   "cell_type": "markdown",
   "id": "31e6d577-c92e-46aa-86da-9c31d85a5352",
   "metadata": {},
   "source": [
    "Ans(5)-a generator function for generating prime numbers less than 1000"
   ]
  },
  {
   "cell_type": "code",
   "execution_count": 36,
   "id": "1c821fc8-98b4-48d4-851b-0e15deab475d",
   "metadata": {},
   "outputs": [
    {
     "name": "stdout",
     "output_type": "stream",
     "text": [
      "2\n",
      "3\n",
      "5\n",
      "7\n",
      "11\n",
      "13\n",
      "17\n",
      "19\n",
      "23\n",
      "29\n",
      "31\n",
      "37\n",
      "41\n",
      "43\n",
      "47\n",
      "53\n",
      "59\n",
      "61\n",
      "67\n",
      "71\n"
     ]
    }
   ],
   "source": [
    "def prime_numbers(limit):\n",
    "    primes = []\n",
    "    for num in range(2, limit):\n",
    "        for i in range(2, num):\n",
    "            if (num % i) == 0:\n",
    "                break\n",
    "        else:\n",
    "            primes.append(num)\n",
    "            yield num\n",
    "\n",
    "prime_gen = prime_numbers(1000)\n",
    "for _ in range(20):\n",
    "    print(next(prime_gen))\n"
   ]
  },
  {
   "cell_type": "markdown",
   "id": "680b6422-7c6a-4cca-9a65-a9586a33edc4",
   "metadata": {},
   "source": [
    "Q6-Write a python program to print the first 10 Fibonacci numbers using a while loop."
   ]
  },
  {
   "cell_type": "markdown",
   "id": "32f9ed11-6acd-4109-bfbb-20c109542b6f",
   "metadata": {},
   "source": [
    "Ans6-python program that uses a while loop to print the first 10 Fibonacci numbers:"
   ]
  },
  {
   "cell_type": "code",
   "execution_count": 15,
   "id": "b9de9d5a-adfa-4482-8e18-3c9d13875528",
   "metadata": {},
   "outputs": [
    {
     "name": "stdout",
     "output_type": "stream",
     "text": [
      "0\n",
      "1\n",
      "1\n",
      "2\n",
      "3\n",
      "5\n",
      "8\n",
      "13\n",
      "21\n",
      "34\n"
     ]
    }
   ],
   "source": [
    "\n",
    "def fibonacci(n):\n",
    "    a, b = 0, 1\n",
    "    while n > 0:\n",
    "        print(a)\n",
    "        a, b = b, a + b\n",
    "        n -= 1\n",
    "\n",
    "fibonacci(10)\n"
   ]
  },
  {
   "cell_type": "markdown",
   "id": "a8ab58d7-c700-42a3-b129-f47e1d6d031b",
   "metadata": {},
   "source": [
    "Q7-Write a List Comprehension to iterate through the given string: ‘pwskills’.\n",
    "Expected output: ['p', 'w', 's', 'k', 'i', 'l', 'l', 's']\n"
   ]
  },
  {
   "cell_type": "markdown",
   "id": "2fbe2384-32dd-4cbc-a05b-685f1c08e4d8",
   "metadata": {},
   "source": [
    "Ans7-list comprehension that iterates through the string \"pwskills\" and creates a list of its characters:"
   ]
  },
  {
   "cell_type": "code",
   "execution_count": 31,
   "id": "3aa6e6c8-6e7b-4746-a2c2-9e2a7f9ceac4",
   "metadata": {},
   "outputs": [
    {
     "name": "stdout",
     "output_type": "stream",
     "text": [
      "['p', 'w', 's', 'k', 'i', 'l', 'l', 's']\n"
     ]
    }
   ],
   "source": [
    "string = \"pwskills\"\n",
    "output = [char for char in string]\n",
    "print(output)\n"
   ]
  },
  {
   "cell_type": "markdown",
   "id": "ec16812b-ef1b-4473-8fb7-e2e73b816814",
   "metadata": {},
   "source": [
    "Q8-Write a python program to check whether a given number is Palindrome or not using a while loop."
   ]
  },
  {
   "cell_type": "markdown",
   "id": "5f160860-f4f3-4ac6-aa24-c366e840bd46",
   "metadata": {},
   "source": [
    "Ans(8)-program to check whether a given number is a Palindrome or not using a while loop:"
   ]
  },
  {
   "cell_type": "code",
   "execution_count": 25,
   "id": "1eb531aa-df0b-426e-bd81-192b05d0b453",
   "metadata": {},
   "outputs": [
    {
     "name": "stdout",
     "output_type": "stream",
     "text": [
      "True\n",
      "False\n",
      "True\n",
      "False\n"
     ]
    }
   ],
   "source": [
    "def is_palindrome(num):\n",
    "    # Converting the given number to string\n",
    "    num = str(num)\n",
    "    # Getting the length of the number\n",
    "    length = len(num)\n",
    "    # Initializing two pointers, one at the start and one at the end of the number\n",
    "    start = 0\n",
    "    end = length - 1\n",
    "    # Loop through the number and compare the characters at start and end\n",
    "    while start < end:\n",
    "        if num[start] != num[end]:\n",
    "            return False\n",
    "        start += 1\n",
    "        end -= 1\n",
    "    return True\n",
    "\n",
    "# Testing the function with different numbers\n",
    "print(is_palindrome(121)) # True\n",
    "print(is_palindrome(122)) # False\n",
    "print(is_palindrome(1221)) # True\n",
    "print(is_palindrome(123451)) # False"
   ]
  },
  {
   "cell_type": "markdown",
   "id": "d4651c9d-7b91-4d1e-988c-be7eaa82fbae",
   "metadata": {},
   "source": [
    "Q9-Write a code to print odd numbers from 1 to 100 using list comprehension.\n",
    "Note: Use a list comprehension to create a list from 1 to 100 and use another List comprehension to filter\n",
    "out odd numbers."
   ]
  },
  {
   "cell_type": "markdown",
   "id": "41f10613-6425-4603-91f5-3c16af17f8ea",
   "metadata": {},
   "source": [
    "Ans(9)-"
   ]
  },
  {
   "cell_type": "code",
   "execution_count": 29,
   "id": "f5a0c64b-efc0-4a30-ad1f-2577d6df293e",
   "metadata": {},
   "outputs": [
    {
     "name": "stdout",
     "output_type": "stream",
     "text": [
      "[1, 2, 3, 4, 5, 6, 7, 8, 9, 10, 11, 12, 13, 14, 15, 16, 17, 18, 19, 20, 21, 22, 23, 24, 25, 26, 27, 28, 29, 30, 31, 32, 33, 34, 35, 36, 37, 38, 39, 40, 41, 42, 43, 44, 45, 46, 47, 48, 49, 50, 51, 52, 53, 54, 55, 56, 57, 58, 59, 60, 61, 62, 63, 64, 65, 66, 67, 68, 69, 70, 71, 72, 73, 74, 75, 76, 77, 78, 79, 80, 81, 82, 83, 84, 85, 86, 87, 88, 89, 90, 91, 92, 93, 94, 95, 96, 97, 98, 99, 100]\n",
      "[1, 3, 5, 7, 9, 11, 13, 15, 17, 19, 21, 23, 25, 27, 29, 31, 33, 35, 37, 39, 41, 43, 45, 47, 49, 51, 53, 55, 57, 59, 61, 63, 65, 67, 69, 71, 73, 75, 77, 79, 81, 83, 85, 87, 89, 91, 93, 95, 97, 99]\n"
     ]
    }
   ],
   "source": [
    "numbers = [x for x in range(1, 101)]\n",
    "odd_numbers = [x for x in numbers if x % 2 != 0]\n",
    "print(numbers)\n",
    "print(odd_numbers)\n"
   ]
  },
  {
   "cell_type": "code",
   "execution_count": null,
   "id": "ffae9af3-96cb-4b94-8e4e-2c4ac41b1b37",
   "metadata": {},
   "outputs": [],
   "source": []
  }
 ],
 "metadata": {
  "kernelspec": {
   "display_name": "Python 3 (ipykernel)",
   "language": "python",
   "name": "python3"
  },
  "language_info": {
   "codemirror_mode": {
    "name": "ipython",
    "version": 3
   },
   "file_extension": ".py",
   "mimetype": "text/x-python",
   "name": "python",
   "nbconvert_exporter": "python",
   "pygments_lexer": "ipython3",
   "version": "3.10.8"
  }
 },
 "nbformat": 4,
 "nbformat_minor": 5
}
